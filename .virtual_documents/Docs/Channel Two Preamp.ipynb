# This cell converts the notebook to a PDF file
# Save the file first
get_ipython().getoutput("jupyter nbconvert --to pdf "Channel Two Preamp.ipynb"")
