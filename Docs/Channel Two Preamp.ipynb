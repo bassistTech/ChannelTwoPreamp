{
 "cells": [
  {
   "cell_type": "markdown",
   "metadata": {},
   "source": [
    "Francis Deck\n",
    "\n",
    "# Overview\n",
    "\n",
    "![Block Diagram](imgV2/BlockDiagram.png)\n",
    "\n",
    "**Channel Two** is a general purpose preamp for musical instruments. I designed it to add a second input channel to a perfectly good bass amp, for gigs that require me to \"double\" on upright and electric bass. It has two inputs:\n",
    "\n",
    "1. **Main channel** has gain, bass, and treble controls. These are hopefully enough to compensate for differences in volume and EQ between two instruments, and to support use as a general purpose preamp. Gain is from 0 to 10, i.e., +20 dB.\n",
    "\n",
    "2. **Pass-through channel** has fixed 0 dB gain and no controls.\n",
    "\n",
    "Both channels have 10 MegOhm input impedance, compatible with most instrument-level signals, including passive and active electric bass, and piezo upright bass pickups.\n",
    "\n",
    "The two channels are mixed together, and fed through an adjustable high-pass filter, identical to my **HPF-Pre Series 3** design.\n",
    "\n",
    "The circuit requires DC or battery power, nominally 9 to 30 V. See the notes about using higher voltages.\n",
    "\n",
    "**Applications**: How you use **Channel Two** depends on how your amp works, and your imagination.\n",
    "\n",
    "* For adding a second channel to a bass amp, it can be connected via the Effects Loop, an \"Aux\" input, or even the main signal chain.\n",
    "\n",
    "* In the teaching studio, for combining the teacher's and student's basses.\n",
    "\n",
    "* As a stand-alone channel strip for use with a powered speaker. It provides the needs that many powered speakers don't, including piezo-friendly input and variable HPF.\n",
    "\n",
    "**Why not use a two-channel amp?** There are very few of them on the market, and they tend to be much more powerful than what I need. And even with a two-channel amp, I still need to bring a box, because most amps don't have the variable HPF that I want.\n",
    "\n",
    "**Why not use a mixer?** A mixer requires *multiple* extra boxes, because most of them don't have high input impedance, needed for my piezo pickup, or variable HPF. The Channel Two preamp is a type of specialized mixer, but because it's my own design, I can cram all of the other stuff that I need into just one box.\n",
    "\n",
    "**Ulterior motives**: I decided to use this project to make a transition from an archaic printed circuit board (PCB) layout program called FreePCB, to KiCad, which is presently the front running open source PCB design tool. So it's a training project but with a serious outcome.\n",
    "\n",
    "**This is the second version** of my project. I decided to finally upgrade to a modern design tool: KiCad. There are now a number of open-source EDA (electronic design automation) tools available. I believe that, except for extremely high performance circuitry, open-source has \"arrived.\" Larger companies are still using paid software for EDA, but partly out of inertia. And they don't like it. Paid software is getting hard to maintain, now that most vendors have switched to an annual subscription model.\n",
    "\n",
    "Previously, I was using a PCB layout tool that didn't include schematic capture. I got pretty good at checking my layouts for accuracy. But this is getting more like programming: The purpose of a programming langauge is to make code readable by humans. Likewise with electronic designs. Schematics are much more readable than PCB layouts, so it's better to figure out designs and check for errors in the schematic. The modern EDA tool such as KiCad ensures that, if the schematicis correct, there will be no wiring errors in the layout. Likewise, if the layout is correct, there will be no errors in manufacturing.\n",
    "\n",
    "Part of the purpose of this project is that I'm going to try having this board assembled by my PCB vendor. I want to find out how this compares to doing it myself, in terms of cost and effort."
   ]
  },
  {
   "cell_type": "markdown",
   "metadata": {},
   "source": [
    "# Known errors\n",
    "\n",
    "None so far. Stay tuned. I will maintain a list of errata, should any crop up.\n",
    "\n",
    "# Project information\n",
    "\n",
    "This project is offered in the spirit of \"open source,\" meaning that I'm sharing all of my documentation, and you can make one of these yourself. You can also modify the design to suit your needs.\n",
    "\n",
    "I'm thinking about whether I want to commercialize this design. If I do, I will continue to maintain and update this repository.\n",
    "\n",
    "This repository includes so-called \"Gerber\" files that are needed for having boards fabricated by suppliers like JLCPCB or PCBWay. I don't sell boards, but you'll see that the prices at these vendors are extremely cheap, even despite the minimum order quantity (typically 5 units), and it doesn't make sense for me to be a middleman.\n",
    "\n",
    "**Advanced skills** will be needed to build this project yourself, First, it's a surface mount design, and it uses a fine-pitch op amp package. Second, due to the complexity of the circuit, troubleshooting will be necessary if it doesn't work on the first try, and at the very least you will probably need a voltmeter if not an oscilloscope.\n",
    "\n",
    "**Components** are all general purpose, except the potentiometers, which are specific Taiwan Alpha parts. You might be able to find substitutes, but I chose these pots because I have a long history with them, and am satisfied with their quality and reliability.\n",
    "\n",
    "**Warning about documentation**: Computer programmers have recognized this problem, which is that the documentation doesn't keep up with changes to the design. I will make sure that the Gerber files are the ones that I've used to build a working prototype, but I have no guarantee other than checking things carefully, that the schematics and other documentation match the Gerbr files precisely."
   ]
  },
  {
   "cell_type": "markdown",
   "metadata": {},
   "source": [
    "# Cautionary statement\n",
    "\n",
    "I am not an engineer. This design has not been approved by any engineer or regulatory body. It should not be used under conditions where its failure -- either due to design or construction -- could result in a hazardous condition. This design, as documented here, does not include a safety enclosure."
   ]
  },
  {
   "cell_type": "markdown",
   "metadata": {},
   "source": [
    "# Files\n",
    "\n",
    "The repository is just a dump of my working directory for this project. It includes some past versions, that are obsolete. To aid the reader, I've taken screen shots of the important graphics, so you don't need to install your own software unless you want to make changes.\n",
    "\n",
    "Because this is my working directory, there's a lot of stuff that's not worth looking at unless you're planning on changing the design. For the most part, you need this PDF, and the zip file containing the Gerbers."
   ]
  },
  {
   "cell_type": "markdown",
   "metadata": {},
   "source": [
    "# Schematic\n",
    "\n",
    "Here's the full schematic. Don't try to read it on a small screen. I'll be breaking it up into sections below.\n",
    "\n",
    "The first thing to notice is that this is a single-supply circuit, meaning that there is a single positive power supply voltage. Most single supply audio circuits work by providing a \"virtual ground\" which is a clean voltage, half of the main power supply voltage. This is labelled GNDS throughout the circuit. When comparing this circuit to textbook designs, treat GNDS as \"ground.\"\n",
    "\n",
    "**Gain staging** is going to be important for this preamp, because a strong signal could produce clipping if additional gain is applied. Bass signals -- electric and upright -- are right in that zone where you don't want a lot of additional gain in a battery powered box. For this reason, the circuit by default has no insertion gain in the pass-through channel, and can be set to a low gain level in the main channel. On the other hand, the lack of high input gain means that noise levels have to be managed throughout the signal chain. For this reason, I'm using an op amp chip with a very low noise level, which would be considered \"overkill\" in a mainstream bass amp. My text mentions some other op amp choices.\n",
    "\n",
    "![Full schematic](imgV2/FullSchematic.png)\n",
    "\n",
    "## Main input gain stage\n",
    "\n",
    "![Main gain stage](imgV2/MainGain.png)"
   ]
  },
  {
   "cell_type": "markdown",
   "metadata": {},
   "source": [
    "The main channel needs a gain control, because the two instruments might not have the same signal levels. For instance my electric bass produces a weaker signal than my upright bass.\n",
    "\n",
    "The input signal is passed through a DC blocking capacitor -- typical for a single supply circuit. A series resistor provides just a bit of protection to the op amp in case of an overload signal, and a shunt capacitor filters out stray RF interference. This might seem like a lot of capacitance, but most instrument cables are about 50 pF per foot.\n",
    "\n",
    "The potentiometer controls the gain of a classic \"inverting amplifier\" stage. The gain can be turned all the way down to zero, like a volume control. This is my way of avoiding the need for separate gain and master volume knobs. The curve of gain versus pot rotation looks like this:\n",
    "\n",
    "![Gain curve](imgV2/gaincurve.png)\n",
    "\n",
    "Ideally, the curve would be a straight line, but making that happen requires a special pot that might not exist. A realistic goal is to be linear enough to have a usable control response. The curve provides the ability to boost or cut the input signal, including a small portion of the range where the signal can be shut off entirely, like a volume control.\n",
    "\n",
    "You can play with the pot and resistor values if you need more gain. That might be needed in an odd case where a bass or pickup is producing a particularly weak signal. But I think that most electric and upright bass pickups are -- by design -- close enough to a nebulous \"instrument level\" that the control range shown here should be sufficient."
   ]
  },
  {
   "cell_type": "markdown",
   "metadata": {},
   "source": [
    "## Tone control stage\n",
    "\n",
    "This is a classic Baxandall circuit, from a classic website that's worth reading:\n",
    "\n",
    "https://sound-au.com/dwopa2.htm\n",
    "\n",
    "![Tone controls](imgV2/Tone.png)\n",
    "\n",
    "I've played a bit with the component values, since a very high frequency treble control isn't of much use for most musical instruments, including bass."
   ]
  },
  {
   "cell_type": "markdown",
   "metadata": {},
   "source": [
    "## Pass-through buffer stage\n",
    "\n",
    "![Pass-through buffer schematic](imgv2/PassThru.png)\n",
    "\n",
    "A buffer is needed to provide a high input impedance, in case you choose to use this input with a piezo pickup. This buffer is identical to the buffer for the main input."
   ]
  },
  {
   "cell_type": "markdown",
   "metadata": {},
   "source": [
    "## Mixer stage\n",
    "\n",
    "![Mixer schematic](imgV2/Mix.png)\n",
    "\n",
    "The input gain stage and the Baxandall tone control both have negative gain, so they have an overall positive gain. I want the circuit to preserve the phase of the input signals. So the summing circuit needs to have positive gain for both channels. R43 and R44 produce an average of the input signals and then applies 2x gain. The result is a pure sum of the signals with no additional gain.\n",
    "\n",
    "Why is there an op amp buffer for the virtual ground? This is a bug fix. The original design connected R41 directly to the virtual ground, but the resistance is so low that it feeds a signal onto the virtual ground line, which is picked up by the HPF. A8 was already wired as a buffer with its own input tied to virtual ground, just because it's good practice to not let an unused op amp section float. It was easy to re-solder R41 and tie it to the output of A8, solving this problem."
   ]
  },
  {
   "cell_type": "markdown",
   "metadata": {},
   "source": [
    "\n",
    "## Variable high pass filter stage\n",
    "\n",
    "![High pass filter schematic](imgV2/HPF.png)\n",
    "\n",
    "This circuit is identical to the filter in my HPF-Pre \"Series 3\" products. There are two Sallen-Key high pass filters. The first has a fixed corner frequency. The second is variable. When the frequency knob is at its lowest setting, the two filters work together to form a single high pass filter with a 35 Hz corner and 24 dB per octave slope. Turning the knob raises the corner of the second filter, resulting in two slopes: Roughly 12 dB/octave down to 35 Hz, and 24 dB/octave below 35.\n",
    "\n",
    "It's a highly effective, and musical, filter. The hard cutoff below 35 Hz helps manage some of the newer \"super\" cabinets being driven at high power, and the more gentle curve above 35 Hz makes it a useful control for managing things like the acoustics of small rooms.\n",
    "\n",
    "This design idea came to me in discussions with some people who contacted me about making a version of my HPF with a 24 dB/octave slope. Chaining two variable filters would have required a pot with 4 gangs, something that I didn't relish trying to buy. And I thought that such a filter would produce quite a loss of bass if the knob were ever moved from the lowest cutoff frequency. Instead, I came up with the idea of chaining two filters, but making only one of them variable.\n",
    "\n",
    "Both stages are the traditional Sallen-Key filter design with equal capacitor and resistor values. The op amps have gain of 1. Normally, this would produce a \"soft knee\" at the cutoff frequency, the so called \"bessel\" response. I prefer the \"butterworth\" curve, which is optimally flat until it reaches the cutoff transition. This requires adding gain to the op amp, but see above about gain staging. I don't want any unnecessary gain. I discovered my \"magic resistor,\" shown as R65.\n",
    "\n",
    "Here are measured response curves, using the pass-through input:\n",
    "\n",
    "![Measured response](imgV2/HPFcurve.png)"
   ]
  },
  {
   "cell_type": "markdown",
   "metadata": {},
   "source": [
    "# Power circuit\n",
    "\n",
    "![Power circuit](imgv2/PowerCircuit.png)\n",
    "\n",
    "Version 1 of the circuit had a simple Schottky diode for power reversal protection. But at the current level consumed by the circuit, the voltage drop across the diode is about 0.5 V. That's more than I want to give up, since half a Volt could mean getting a few more hours out of a battery.\n",
    "\n",
    "I discovered a circuit described here:\n",
    "\n",
    "    https://hackaday.com/2011/12/06/reverse-voltage-protection-with-a-p-fet/\n",
    "    \n",
    "When the input voltage is positive, current flows through the protection diode that's part of every MOSFET, and biases the P-type MOSFET into conduction. The on-state resistance is something like 0.08 Ohms. I chose a MOSFET with a very low turn-on voltage, and a low voltage Zener, so the circuit works on a 9-V battery even if it's weak.\n",
    "\n",
    "Note that only one section of the Zener is used. But I could only find a symbol for a dual Zener.\n",
    "\n",
    "This is an example of an \"active diode.\" These are becoming more and more common, as the forward drop of a conventional diode is an efficiency loss in a high power circuits -- especially as power supply voltages get lower and lower.\n",
    "\n",
    "The \"virtual ground\" is formed by a resistive voltage divider, and heavily filtered.\n",
    "\n",
    "All of the capacitors labeled \"dc\" are your choice of favorite decoupling cap. I use 10 uF at 35 V."
   ]
  },
  {
   "cell_type": "markdown",
   "metadata": {},
   "source": [
    "# More design details\n",
    "\n",
    "## Op amp choice\n",
    "\n",
    "There's just a bewildering proliferation of op amps out there. Many general-purpose types will work OK in this circuit. The most important criteria are:\n",
    "\n",
    "1. Must be available in a quad TSSOP-14 package.\n",
    "2. Must be JFET or CMOS type, because my circuits don't correct for bias current.\n",
    "\n",
    "For my HPF-Pre Series 3 products, I use Texas Instruments (formerly Burr Brown) OPA1654, which is designed for audio use, with uncompromising performance and a wide power supply voltage range. However, it's expensive, and consumes 2 mA per channel, adding up to 16 mA for this circuit. Battery life will not be stellar. Its input noise is 4.5 nV per square root of Hz (nV/rtHz). Quieter op amps tend to be bipolar types, which can't be used in this circuit.\n",
    "\n",
    "For 9-V battery operation, I've had good success with an old CMOS op amp from Texas Instruments, TLC2264. Op amps face a tradeoff between supply current and noise performance, but the TLC2264 draws 0.5 mA per channel while having an OK noise spec. It's a \"rail to rail\" op amp, meaning that its output can reach both power supply rails. *I believe this op amp must be used with great caution if powered from a wall wart, see below.* Its input noise is 12 nV/rtHz, roughly 9 dB above the OPA1654. The difference may be inaudible for most uses.\n",
    "\n",
    "The generic TL074 would be an acceptable substitute. It's ubiquitous in commercial bass amps for many good reasons. First, its noise performance is not state-of-the-art, but is probably below the noise floor of most electric bass pickup systems. Second, it's a generic part, meaning that there are multiple suppliers, which greatly reduces supply chain risk. Imagine my surprise when my beloved OPA1654 chip became unavailable during the pandemic. The Texas Instruments version of the TL074 cites an input noise of 19 nV/rtHz, roughly 13 dB above the OPA1654. This might seem bad, but you have to consider it in the context of its actual use. Your bass amp is probably already chock full of TL07x op amps.\n",
    "\n",
    "## Component selection\n",
    "\n",
    "Some of my component choices are driven by my product line, which has its own history. If this thing ever becomes a product, I want to re-use parts that are already in other designs.\n",
    "\n",
    "All passives are 0805 surface mount, general purpose types, except for the four 82 nF capacitors in the HPF circuit. Those are film caps with 5% tolerance. The pots are Taiwan Alpha. I have a long history with those pots, and they've held up well in my products. You'll notice that my layout accommodates dual ganged pots, but only the HPF needs one. You can use single or dual pots in the other places.\n",
    "\n",
    "I don't see the point to providing part numbers for the passives because things go in and out of availability, even at the big distributors. Resistors should be 1%. No sense in adding more variability than needed. Working voltage of caps should be at least 35 V. I've learned to use OctoPart for buying passives, while checking a single distributor to minimize shipping costs.\n",
    "\n",
    "## Power options\n",
    "\n",
    "I see an interesting \"culture\" difference here, based on my product mix, and talking to bassists. Upright players tend to prefer battery operation. I think that battery powered gadgets reduce the amount of cabling needed at a gig. For instance, all I need is a power cable for my amp, and I don't even bring an outlet strip. And battery life is tolerable given that I don't use an amp at all when practicing at home.\n",
    "\n",
    "Electric players tend to prefer a power supply. I think most electric players are already providing power to multiple things, and are using their powered gear at home as well as on stage, so a device that doesn't need batteries seems simpler in this case. When my HPF-Pre products were \"discovered\" by electric bassists, the first thing they asked for was a power jack.\n",
    "\n",
    "**Unregulated** power supplies produce much more than their rated output voltage. **Watch out!** These are typically the old line-frequency supplies, that are heavy and big. I have one, rated at 9 V and 350 mA. Under no load, its output measures 16 V. Why? The rating is the minimum guaranteed voltage, accounting for variations in mains voltage and load current. When plugged into clean household power, and with minimal load, the output voltage is much higher than the rating.\n",
    "\n",
    "Running at 16 V would be just fine for the OPA165x or TL07x op amps. It would be in danger of killing the TLC226x op amp chip. A semiconductor engineer once told me that the absolute maximum voltage ratings on ICs has no margin for error, because it's designed into the fabrication process for the chip.\n",
    "\n",
    "There are trends towards higher power supply voltages in the bass world, with some players preferring 18 or even 24 V. **Watch out!** Given my measurement of the 9-V wall wart, a 24-V unregulated wall wart could put out as much as 43 V, which is beyond the ratings of virtually all op amps.\n",
    "\n",
    "**Regulated** power supplies put out their rated voltage, within much tighter margins. These tend to be the newer, lightweight ones. I think some regions (possibly California) are encouraging the phase-out of the old line-frequency wall warts because their idle current is not insubstantial, and there are a lot of them out there.\n",
    "\n",
    "Do we need more than 9 Volts? Here's my opinion. I think that the trend towards higher voltages in the signal chain for musical instrument gear is a bad idea. Even if operating within the limits of a 9-V battery, there's plenty of dynamic range. Since most active circuits draw constant current independent of supply voltage, doubling the voltage means throwing away two batteries instead of one. The amp can handle the transition from instrument level to speaker level. But since there are now lots of 18-V systems out there, we have to provide compatible gear if needed. I'm OK with that, but 9 V suffices for my needs.\n",
    "\n",
    "**Emergency back-up generator**\n",
    "\n",
    "![Emergency back-up generator](imgV2/EBG.png)"
   ]
  },
  {
   "cell_type": "markdown",
   "metadata": {},
   "source": [
    "# Construction\n",
    "\n",
    "I use Kester K100 solder alloy. It's a lead-free alloy with fairly good properties. It melts at a lower temperature than the first generation lead-free alloys. I also order lead-free boards by specifying \"lead free HASL\" surface coating.\n",
    "\n",
    "I have different practices for \"first time build\" and for \"production.\" I suggest treating this as a first time build, even if you're confident in your construction skills. I populate the board, stage by stage, and test each stage before moving on to the next one.\n",
    "\n",
    "Start with the power supply wiring. The power input passes through a Schottky diode, which has a forward voltage of about 0.25 V, so the main supply voltage Vs will be lower than the power input voltage by that amount. The virtual ground Vh will be close to half of that value.\n",
    "\n",
    "It helps a lot to have a signal generator and oscilloscope for tracing the signal through the circuit, but it can be done without a scope. If you don't have a scope, you can trace your way through a circuit by connecting a wire to a jack, and using it as a probe, going through an amp with the volume turned way down. Because the signals are based at half of the supply voltage, there will be a \"pop\" every time you connect the wire.\n",
    "\n",
    "Make sure each stage works as expected before moving on to the next stage. This will minimize the amount of stuff you have to throw away if troubleshooting ends up damaging something.\n",
    "\n",
    "The IC packages are tiny! This is where you'll need some soldering technique. Here's what works for me. First, I work under a magnifier. I apply a tiny blob of solder to exactly one of the circuit board pads. Then I hold the IC in good alignment with a tweezers (check pin 1 orientation) and heat that blob. The IC will now be held in place by one pin. Make sure it's laying all the way down on the board.\n",
    "\n",
    "Next, I solder the rest of the pins, starting at the opposite corner. On occasion I will make a \"bridge\" of solder between two pins. I use my soldering iron and solder wick to suck up the excess. The result is usually a good joint. View it from above and from the side with good magnification and lighting. I have a stereoscopic inspection microscope that I use for this purpose.\n",
    "\n",
    "For the 0805's, I lay a blob of solder onto just one of the two pads for each part. Then I hold the part with tweezers, melt the blob, and lay it down. With all of the parts in place, I turn the board around and solder the other end of each part."
   ]
  },
  {
   "cell_type": "markdown",
   "metadata": {},
   "source": [
    "## Parts availability\n",
    "\n",
    "The only specialized parts are the pots, and pots are a pain in the neck: Finding high quality pots with the right mounting features and the needed values is always hit or miss. The circuit board accommodates dual pots for all positions, just in case the single ones aren't available.\n",
    "\n",
    "The commercial makers order custom pots from the factory, or at least get a guaranteed supply line on standard offerings. I don't want to buy 5000 of anything.\n",
    "\n",
    "| Designator | Part | Mouser Part # | Note |\n",
    "|:--------:|:--------:|:--------:|:---:|\n",
    "| R15 | 10k linear taper pot | 313-1230F-10k | Note picture is wrong at Mouser website |\n",
    "| R22 | 100k linear taper pot | 313-1230F-100K | Note picture is wrong at Mouser website |\n",
    "| R25 | 100k linear taper pot | 313-1230F-100K | Note picture is wrong at Mouser website |\n",
    "| R52 + R53| 100k dual audio taper pot   | 313-1240F-100K |"
   ]
  },
  {
   "cell_type": "markdown",
   "metadata": {},
   "source": [
    "# Setup and use\n",
    "\n",
    "Some amps are more friendly to the Channel Two preamp than others. An amp with an \"Effects Loop\" can be hooked up with two patch cables:\n",
    "\n",
    "![Amps with effects loop](imgV2/UseEffectsLoop.png)\n",
    "\n",
    "If the amp has an \"Aux\" input, consider this setup:\n",
    "\n",
    "![Amps with Aux input](imgV2/UseAuxInputs.png)\n",
    "\n",
    "If there are no additional jacks on the amp, then you can insert the Channel Two preamp directly into the main signal path.\n",
    "\n",
    "In this setup, the tone controls of your amp will affect both instruments. You can use the controls on Channel Two to make up for differences in the two instruments.\n",
    "\n",
    "![Amps with no additional jacks](imgV2/UseNoJacks.png)"
   ]
  },
  {
   "cell_type": "code",
   "execution_count": 1,
   "metadata": {},
   "outputs": [
    {
     "name": "stderr",
     "output_type": "stream",
     "text": [
      "[NbConvertApp] Converting notebook Channel Two Preamp.ipynb to pdf\n",
      "[NbConvertApp] Writing 47023 bytes to notebook.tex\n",
      "[NbConvertApp] Building PDF\n",
      "[NbConvertApp] Running xelatex 3 times: ['xelatex', 'notebook.tex', '-quiet']\n",
      "[NbConvertApp] Running bibtex 1 time: ['bibtex', 'notebook']\n",
      "[NbConvertApp] WARNING | b had problems, most likely because there were no citations\n",
      "[NbConvertApp] PDF successfully created\n",
      "[NbConvertApp] Writing 526614 bytes to Channel Two Preamp.pdf\n"
     ]
    }
   ],
   "source": [
    "# This cell converts the notebook to a PDF file\n",
    "# Save the file first\n",
    "!jupyter nbconvert --to pdf \"Channel Two Preamp.ipynb\""
   ]
  },
  {
   "cell_type": "markdown",
   "metadata": {},
   "source": []
  }
 ],
 "metadata": {
  "kernelspec": {
   "display_name": "Python 3 (ipykernel)",
   "language": "python",
   "name": "python3"
  },
  "language_info": {
   "codemirror_mode": {
    "name": "ipython",
    "version": 3
   },
   "file_extension": ".py",
   "mimetype": "text/x-python",
   "name": "python",
   "nbconvert_exporter": "python",
   "pygments_lexer": "ipython3",
   "version": "3.10.5"
  }
 },
 "nbformat": 4,
 "nbformat_minor": 4
}
