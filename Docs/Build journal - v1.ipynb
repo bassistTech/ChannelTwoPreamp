{
 "cells": [
  {
   "cell_type": "markdown",
   "metadata": {},
   "source": [
    "Francis Deck\n",
    "\n",
    "I've taken notes on my first build if Channel Two preamp, version 1. This is a brand new design for me, meaning it's the first time I've ever seen the circuit board for real, and there might be mistakes in the board. It's easier to troubleshoot a partially populated board, because if there are problems, they're confined to the parts that are already on the board, and there's less stuff to get in the way of my soldering iron.\n",
    "\n",
    "If I build a second one of these, or even a modified design, I'll be more confident and will probably build the whole thing up at once.\n",
    "\n",
    "# Special tools used\n",
    "\n",
    "You might not need all of these, but here are the tools I used, that are not in your typical household toolbox.\n",
    "\n",
    "**Stereo inspection microscope**, from industrial surplus. It's got adjustable magnification from about 10x to 40x. I've gotten used to soldering under the scope.\n",
    "\n",
    "**Fine solder wick**\n",
    "\n",
    "**Solder**. The type I use is Kester K100 lead-free alloy, fine gauge. When I order boards, I get \"Lead Free HASL\" coating.\n",
    "\n",
    "**Signal generator**. Mine's homemade, and just generates a dirty variable sinewave. It's not very good, but works well enough.\n",
    "\n",
    "**Oscilloscope**. Two channels are enough. I usually like to see the input signal on one channel, and use the other channel for actually testing things.\n",
    "\n",
    "**Audio response testing**. Because I'm the first person to build this thing, I want to see that it actually behaves as designed. I have a cheap USB audio adapter, and frequency response testing software, that I use for checking out all of my builds."
   ]
  },
  {
   "cell_type": "markdown",
   "metadata": {},
   "source": [
    "# Power circuit\n",
    "\n",
    "I've added just the Schottky diode, virtual ground, and decoupling caps (labeled \"dc\"). You can see from the picture that I forgot one of them. I'll get it later.\n",
    "\n",
    "At this point, the wires are going to my bench power supply, set to about 10 V, I've checked that there's power going to both IC's, and that the virtual ground is roughly half of the supply voltage.\n",
    "\n",
    "![Power Circuit](buildV1/build1.png)"
   ]
  },
  {
   "cell_type": "markdown",
   "metadata": {},
   "source": [
    "# The IC's\n",
    "\n",
    "I've laid down both IC's. I'll show a picture of just one, taken through the eyepiece of my shop microscope. My method follows these steps:\n",
    "\n",
    "1. Apply solder to just one pad, typically in the upper right corner. I'm right-handed.\n",
    "2. Holding the IC with tweezers, solder one pin to that pad.\n",
    "3. Starting at the opposite corner, solder the rest of the pins.\n",
    "4. If there's a \"bridge\" between two pins, I remove it with fine solder wick.\n",
    "5. Clean off the flux.\n",
    "\n",
    "![ICs](buildV1/build2.png)"
   ]
  },
  {
   "cell_type": "markdown",
   "metadata": {},
   "source": [
    "# Pass-through input\n",
    "\n",
    "The simplest part of the circuit, just an op amp follower. The blue wire is going to my signal generator.\n",
    "\n",
    "![passthrough](buildV1/build3.png)"
   ]
  },
  {
   "cell_type": "markdown",
   "metadata": {},
   "source": [
    "# Getting through to the output\n",
    "\n",
    "I populated the bare minimum of parts needed to get the signal through the last output stage.\n",
    "\n",
    "![build4](buildV1/build4.png)"
   ]
  },
  {
   "cell_type": "markdown",
   "metadata": {},
   "source": [
    "\n",
    "# Yadda, yadda\n",
    "\n",
    "Okay, you get the point. Now I'll skip to the endgame. now the board is fully built up, and works, so I think.\n",
    "\n",
    "![build5](buildV1/build5.png)\n",
    "\n"
   ]
  },
  {
   "cell_type": "markdown",
   "metadata": {},
   "source": [
    "# Detail about the input jacks\n",
    "\n",
    "The high input impedance means that the inputs could pick up stray signals if left disconnected. For this reason, I'm using Neutrik jacks with \"normal\" terminals, so the input is grounded when disconnected. I wrapped a piece of thin wire around the normal terminal, around the front of the jack, to the sleeve terminal. This also grounds the jack to the enclosure. You can buy jacks with a metal bushing that are inherently grounded too.\n",
    "\n",
    "![build6](buildV1/build6.png)"
   ]
  },
  {
   "cell_type": "markdown",
   "metadata": {},
   "source": [
    "# Finally, ready to test\n",
    "\n",
    "![build7](buildV1/build7.png)"
   ]
  },
  {
   "cell_type": "markdown",
   "metadata": {},
   "source": []
  }
 ],
 "metadata": {
  "kernelspec": {
   "display_name": "Python 3",
   "language": "python",
   "name": "python3"
  },
  "language_info": {
   "name": "python",
   "version": "3.12.4"
  }
 },
 "nbformat": 4,
 "nbformat_minor": 2
}
