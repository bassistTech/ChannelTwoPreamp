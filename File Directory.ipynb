{
 "cells": [
  {
   "cell_type": "markdown",
   "id": "eb0fff56-e405-47d4-8db0-b8233f0c0842",
   "metadata": {},
   "source": [
    "# File directory generator\n",
    "\n",
    "This is for generating the list of important files in readme.md"
   ]
  },
  {
   "cell_type": "code",
   "execution_count": 2,
   "id": "23931b4e",
   "metadata": {},
   "outputs": [],
   "source": [
    "import os\n",
    "import json"
   ]
  },
  {
   "cell_type": "code",
   "execution_count": 3,
   "id": "f61d6358",
   "metadata": {},
   "outputs": [],
   "source": [
    "def filetree(result = {}, extension = None, root = '.'):\n",
    "    ld = os.listdir(root)\n",
    "    # first find all files with the desired extension\n",
    "    for item in ld:\n",
    "        if not os.path.isdir(item):\n",
    "            filename, ext = os.path.splitext(item)\n",
    "            if (((ext == extension) \n",
    "                 or (extension == None)) \n",
    "                #and (ext not in ignore_exts)\n",
    "                and (not filename.startswith('.'))):\n",
    "                name = os.path.join(root, filename + ext)\n",
    "                result[name] = ''\n",
    "    # Now find all subdirectories, but avoid hidden dirs\n",
    "    for item in ld:\n",
    "        dir = os.path.join(root, item)\n",
    "        if os.path.isdir(dir) and item not in ignore_dirs:\n",
    "            filetree(result, extension, os.path.join(root, item))\n",
    "    return result\n",
    "\n",
    "ignore_dirs = ['.git', '.vscode', '__pycache__']"
   ]
  },
  {
   "cell_type": "code",
   "execution_count": 10,
   "id": "a5c46bf0",
   "metadata": {},
   "outputs": [],
   "source": [
    "db_old = json.load(open('fileList.json'))\n",
    "db_new = filetree()\n",
    "for f in db_new:\n",
    "    if f in db_old:\n",
    "        db_new[f] = db_old[f]\n",
    "    else:\n",
    "        print('New file', f)\n",
    "\n",
    "f = open('fileList.json', 'w')\n",
    "print(json.dumps(db_new, indent = 4), file = f)\n",
    "f.close()"
   ]
  },
  {
   "cell_type": "code",
   "execution_count": 11,
   "id": "82026002",
   "metadata": {},
   "outputs": [
    {
     "name": "stdout",
     "output_type": "stream",
     "text": [
      ".\\Modeling\\Channel Two model circuit v1.asc = LTSpice modeling circuit\n",
      "\n",
      ".\\Docs\\Build journal - v1.pdf = Build notes for version 1\n",
      "\n",
      ".\\Docs\\Channel Two Preamp.ipynb = Main documentation for the project\n",
      "\n",
      ".\\KiCad project\\Channel Two v2\\Channel Two v2 BOM.csv = Bill of materials\n",
      "\n",
      ".\\KiCad project\\Channel Two v2\\CAM20241109\\CAM20241109a.zip = Gerber files for upload to PCB manufacturer\n",
      "\n"
     ]
    }
   ],
   "source": [
    "for f in db_new:\n",
    "    if db_new[f] != '':\n",
    "        print(f, '=', db_new[f])\n",
    "        print('')"
   ]
  },
  {
   "cell_type": "code",
   "execution_count": null,
   "id": "beb8ff76",
   "metadata": {},
   "outputs": [],
   "source": []
  }
 ],
 "metadata": {
  "kernelspec": {
   "display_name": "Python 3 (ipykernel)",
   "language": "python",
   "name": "python3"
  },
  "language_info": {
   "codemirror_mode": {
    "name": "ipython",
    "version": 3
   },
   "file_extension": ".py",
   "mimetype": "text/x-python",
   "name": "python",
   "nbconvert_exporter": "python",
   "pygments_lexer": "ipython3",
   "version": "3.12.4"
  }
 },
 "nbformat": 4,
 "nbformat_minor": 5
}
